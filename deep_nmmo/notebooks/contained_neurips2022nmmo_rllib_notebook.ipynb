{
 "cells": [
  {
   "cell_type": "code",
   "execution_count": 1,
   "id": "628fa1e6-327f-4ecd-8534-88da25f978bf",
   "metadata": {},
   "outputs": [
    {
     "name": "stderr",
     "output_type": "stream",
     "text": [
      "2022-09-29 20:35:43,256\tINFO worker.py:1509 -- Started a local Ray instance. View the dashboard at \u001b[1m\u001b[32m127.0.0.1:8269 \u001b[39m\u001b[22m\n"
     ]
    }
   ],
   "source": [
    "import nmmo\n",
    "from nmmo import config\n",
    "from nmmo.io import action\n",
    "from nmmo import scripting, material, Serialized\n",
    "from nmmo.systems import skill, item\n",
    "from nmmo.lib import colors\n",
    "from nmmo import action as Action\n",
    "\n",
    "\n",
    "import neurips2022nmmo\n",
    "from neurips2022nmmo.scripted import baselines\n",
    "from neurips2022nmmo import Team\n",
    "from neurips2022nmmo import CompetitionConfig, scripted, RollOut, TeamBasedEnv\n",
    "from neurips2022nmmo.scripted import attack, move\n",
    "\n",
    "import ray\n",
    "ray.shutdown()\n",
    "ray.init()\n",
    "\n",
    "from ray.rllib.agents import ppo\n",
    "from ray.tune.registry import register_env\n",
    "from ray.rllib.models import ModelCatalog\n",
    "\n",
    "# from ray.rllib.env.multi_agent_env import make_multi_agent\n",
    "from ray.rllib.env.multi_agent_env import MultiAgentEnv\n",
    "from ray.rllib.policy.policy import PolicySpec\n",
    "\n",
    "from ray.rllib.models.modelv2 import restore_original_dimensions\n",
    "from collections.abc import Mapping\n",
    "\n",
    "from ray.rllib.utils.annotations import override\n",
    "from ray.rllib.utils.typing import (\n",
    "    # AgentID,\n",
    "    # EnvCreator,\n",
    "    # EnvID,\n",
    "    # EnvType,\n",
    "    MultiAgentDict,\n",
    "    # MultiEnvDict,\n",
    ")\n",
    "\n",
    "import gym\n",
    "\n",
    "import numpy as np\n",
    "\n",
    "import copy\n",
    "from collections import defaultdict\n",
    "\n",
    "from IPython.display import display\n",
    "\n",
    "from typing import Dict, Any, Type, List"
   ]
  },
  {
   "cell_type": "code",
   "execution_count": null,
   "id": "028da21d-1fa2-46f4-8817-e7173dd3ea7e",
   "metadata": {},
   "outputs": [],
   "source": []
  }
 ],
 "metadata": {
  "kernelspec": {
   "display_name": "nmmo",
   "language": "python",
   "name": "nmmo"
  },
  "language_info": {
   "codemirror_mode": {
    "name": "ipython",
    "version": 3
   },
   "file_extension": ".py",
   "mimetype": "text/x-python",
   "name": "python",
   "nbconvert_exporter": "python",
   "pygments_lexer": "ipython3",
   "version": "3.9.0"
  }
 },
 "nbformat": 4,
 "nbformat_minor": 5
}
